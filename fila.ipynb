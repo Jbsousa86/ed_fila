{
 "cells": [
  {
   "cell_type": "markdown",
   "id": "3c46030a",
   "metadata": {},
   "source": [
    "Implementação de Fila\n",
    "\n",
    "Nó da fila"
   ]
  },
  {
   "cell_type": "code",
   "execution_count": 1,
   "id": "d9218cd0",
   "metadata": {},
   "outputs": [],
   "source": [
    "class Node:\n",
    "    def __init__(self, value):\n",
    "        self.value = value\n",
    "        self.next = None"
   ]
  },
  {
   "cell_type": "markdown",
   "id": "425d02ab",
   "metadata": {},
   "source": [
    "Fila"
   ]
  },
  {
   "cell_type": "code",
   "execution_count": 2,
   "id": "071199c8",
   "metadata": {},
   "outputs": [],
   "source": [
    "class Queue:\n",
    "    def __init__(self):\n",
    "        self.front = None\n",
    "        self.rear = None\n",
    "    \n",
    "    # Inclusão de elementos na fila\n",
    "    def enqueue(self, value):\n",
    "        new_node = Node(value)\n",
    "\n",
    "        if self.front == None:\n",
    "            self.front = self.rear = new_node\n",
    "            return\n",
    "        self.rear.next = new_node\n",
    "        self.rear = new_node\n",
    "\n",
    "    # Remoção de elemnto da fila\n",
    "    def dequeue(self):\n",
    "        if self.front == None:\n",
    "            raise Exception(\"Queue is empty\")\n",
    "        temp = self.front\n",
    "        self.front = self.front.next\n",
    "        if self.front == None:\n",
    "            self.rear = None\n",
    "        return temp.value\n",
    "\n",
    "    # Acessa o primeiro elemento da fila\n",
    "    def peek(self):\n",
    "        if self.front == None:\n",
    "            raise Exception(\"Queue is empty\")\n",
    "        return self.front.value\n",
    "    \n",
    "    # Verifica se a fila está vazia\n",
    "    def is_empty(self):\n",
    "        return self.front == None\n",
    "\n",
    "    # Exibe a fila\n",
    "    def display_queue(self):\n",
    "        current = self.front\n",
    "        while current != None:\n",
    "            print(current.value, end=\" \")\n",
    "            current = current.next\n"
   ]
  },
  {
   "cell_type": "markdown",
   "id": "0d1a9285",
   "metadata": {},
   "source": [
    "Teste de uso da fila"
   ]
  },
  {
   "cell_type": "code",
   "execution_count": 3,
   "id": "269d487c",
   "metadata": {},
   "outputs": [
    {
     "name": "stdout",
     "output_type": "stream",
     "text": [
      "True\n",
      "1\n",
      "2 3 \n",
      "fila após adicionar mais elementos:\n",
      "2 3 4 5 6 \n",
      "fila após remover dois elementos:\n",
      "4 5 6 \n",
      "elemento que está na frente da fila:\n",
      "4\n",
      "\n",
      "A fila está vazia?\n",
      "Fila não está vazia\n"
     ]
    }
   ],
   "source": [
    "fila = Queue()\n",
    "\n",
    "print(fila.is_empty())\n",
    "\n",
    "fila.enqueue(1)\n",
    "print(fila.peek())\n",
    "fila.dequeue()\n",
    "fila.enqueue(2)\n",
    "fila.enqueue(3)\n",
    "\n",
    "fila.display_queue()\n",
    "# Adicionando mais elementos para testar a fila\n",
    "fila.enqueue(4)\n",
    "fila.enqueue(5)\n",
    "fila.enqueue(6)\n",
    "#Exibindo a fila após adicionar mais elementos\n",
    "print(\"\\nfila após adicionar mais elementos:\")\n",
    "fila.display_queue()\n",
    "# Removendo elementos da fila\n",
    "fila.dequeue()\n",
    "fila.dequeue()\n",
    "#Exibindo a fila após remover um elemento\n",
    "print(\"\\nfila após remover dois elementos:\")\n",
    "fila.display_queue()\n",
    "# Elemento que está na frente da fila\n",
    "print(\"\\nelemento que está na frente da fila:\")\n",
    "print(fila.peek())\n",
    "\n",
    "# Verificando se a fila está vazia\n",
    "print(\"\\nA fila está vazia?\")\n",
    "if fila.is_empty():\n",
    "    print(\"Fila está vazia\")\n",
    "else:\n",
    "    print(\"Fila não está vazia\")\n",
    "\n"
   ]
  }
 ],
 "metadata": {
  "kernelspec": {
   "display_name": "Python 3",
   "language": "python",
   "name": "python3"
  },
  "language_info": {
   "codemirror_mode": {
    "name": "ipython",
    "version": 3
   },
   "file_extension": ".py",
   "mimetype": "text/x-python",
   "name": "python",
   "nbconvert_exporter": "python",
   "pygments_lexer": "ipython3",
   "version": "3.13.1"
  }
 },
 "nbformat": 4,
 "nbformat_minor": 5
}
